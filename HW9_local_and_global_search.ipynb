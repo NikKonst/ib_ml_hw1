{
 "cells": [
  {
   "cell_type": "markdown",
   "metadata": {},
   "source": [
    "## Локальный и глобальный поиск"
   ]
  },
  {
   "cell_type": "markdown",
   "metadata": {},
   "source": [
    "Решите задачу коммивояжера на основе файла данных `hw9_data/tsp.csv`: найти минимальный НЕЦИКЛИЧЕСКИЙ путь (начинается и заканчивается в разных точках), соединяющий N точек. Файл содержит координаты каждого из городов на плоскости (1й столбец - номер города, 2й и 3й - координаты). Используйте L1 расстояние для расчетов и визуализации.\n",
    "\n"
   ]
  },
  {
   "cell_type": "code",
   "execution_count": 29,
   "metadata": {},
   "outputs": [],
   "source": [
    "import pandas as pd\n",
    "import matplotlib.pyplot as plt\n",
    "from scipy.spatial.distance import cdist\n",
    "import numpy as np"
   ]
  },
  {
   "cell_type": "code",
   "execution_count": 17,
   "metadata": {},
   "outputs": [
    {
     "data": {
      "image/png": "[encoded data removed]",
      "text/plain": [
       "<Figure size 1440x720 with 1 Axes>"
      ]
     },
     "metadata": {
      "needs_background": "light"
     },
     "output_type": "display_data"
    }
   ],
   "source": [
    "df = pd.read_csv('hw9_data/tsp.csv', names=['name', 'x', 'y'])\n",
    "plt.figure(figsize=(20, 10))\n",
    "plt.scatter(df.x, df.y)\n",
    "plt.show()"
   ]
  },
  {
   "cell_type": "code",
   "execution_count": 25,
   "metadata": {},
   "outputs": [],
   "source": [
    "# рассчет матрицы расстояний\n",
    "def dist_matrix(vec, metric='cityblock'):\n",
    "    return cdist(vec, vec, metric=metric)"
   ]
  },
  {
   "cell_type": "code",
   "execution_count": 66,
   "metadata": {},
   "outputs": [],
   "source": [
    "# рассчет длины маршрута\n",
    "def calculate_path_len(dists, path):\n",
    "    total = 0\n",
    "    \n",
    "    n = len(path)\n",
    "    for i in range(n):\n",
    "        if i == n - 1:\n",
    "            break\n",
    "        total += dists[path[i]][path[i + 1]]\n",
    "    \n",
    "    return total"
   ]
  },
  {
   "cell_type": "code",
   "execution_count": 67,
   "metadata": {},
   "outputs": [],
   "source": [
    "dists = dist_matrix(df[['x', 'y']].values)"
   ]
  },
  {
   "cell_type": "markdown",
   "metadata": {},
   "source": [
    "### Задание 1 (1 балл) \n",
    "\n",
    "Реализуйте Монте-Карло поиск."
   ]
  },
  {
   "cell_type": "code",
   "execution_count": 137,
   "metadata": {},
   "outputs": [],
   "source": [
    "def monte_carlo(dists, iterations=100000):\n",
    "    n = dists.shape[0]\n",
    "    idx = np.arange(n)\n",
    "    \n",
    "    best = None\n",
    "    best_path = None\n",
    "    \n",
    "    for _ in range(iterations):\n",
    "        np.random.shuffle(idx)\n",
    "        \n",
    "        new_len = calculate_path_len(dists, idx)\n",
    "        \n",
    "        if best == None or new_len < best:\n",
    "            best = new_len\n",
    "            best_path = np.copy(idx)\n",
    "    \n",
    "    return best, best_path"
   ]
  },
  {
   "cell_type": "code",
   "execution_count": 138,
   "metadata": {},
   "outputs": [
    {
     "data": {
      "text/plain": [
       "(27620.0,\n",
       " array([32, 25, 13, 12, 45, 24,  8, 18, 16, 19, 33, 30,  9, 29, 48,  7, 17,\n",
       "        37, 39,  4,  1,  6, 41, 47, 50, 10, 26, 35, 27, 46, 51, 14, 21,  2,\n",
       "        40, 20, 28,  5, 49,  0,  3, 31, 11, 42, 22, 38, 36, 15, 43, 44, 34,\n",
       "        23]))"
      ]
     },
     "execution_count": 138,
     "metadata": {},
     "output_type": "execute_result"
    }
   ],
   "source": [
    "monte_carlo(dists)"
   ]
  },
  {
   "cell_type": "markdown",
   "metadata": {},
   "source": [
    "### Задание 2 (1 балл) \n",
    "\n",
    "Реализуйте поиск случайным блужданием.\n",
    "\n",
    "Для случайного блуждания будем \"переворачивать\" случайную часть маршрута на обратную"
   ]
  },
  {
   "cell_type": "code",
   "execution_count": 161,
   "metadata": {},
   "outputs": [],
   "source": [
    "def random_walk(dists, iterations=100000):\n",
    "    n = dists.shape[0]\n",
    "    idx = np.arange(n)\n",
    "        \n",
    "    # случайный маршрут\n",
    "    np.random.shuffle(idx)\n",
    "    start_len = calculate_path_len(dists, idx)\n",
    "    \n",
    "    best = start_len\n",
    "    best_path = np.copy(idx)\n",
    "    \n",
    "    for _ in range(iterations):\n",
    "        flip_idx = np.sort(np.random.choice(n, 2, replace=False))\n",
    "    \n",
    "        idx[flip_idx[0]: flip_idx[1] + 1] = np.flip(idx[flip_idx[0]: flip_idx[1] + 1])\n",
    "        new_len = calculate_path_len(dists, idx)\n",
    "        \n",
    "        if new_len < best:\n",
    "            best = new_len\n",
    "            best_path = np.copy(idx)\n",
    "    \n",
    "    best = calculate_path_len(dists, best_path)\n",
    "    \n",
    "    return best, best_path"
   ]
  },
  {
   "cell_type": "code",
   "execution_count": 162,
   "metadata": {},
   "outputs": [
    {
     "data": {
      "text/plain": [
       "(27290.0,\n",
       " array([16, 28,  8, 44, 49, 30,  7, 39, 31, 38,  0, 42, 18, 24, 17, 21, 29,\n",
       "        35, 20,  2, 36, 14, 37,  6, 19, 45, 23, 40, 12, 51, 10, 50, 46, 25,\n",
       "        33, 34,  5,  9, 32, 47, 48, 11, 13, 26,  4, 22, 15, 27,  3, 43, 41,\n",
       "         1]))"
      ]
     },
     "execution_count": 162,
     "metadata": {},
     "output_type": "execute_result"
    }
   ],
   "source": [
    "random_walk(dists)"
   ]
  },
  {
   "cell_type": "markdown",
   "metadata": {},
   "source": [
    "### Задание 3 (2 балла) \n",
    "\n",
    "Реализуйте Hill Climb."
   ]
  },
  {
   "cell_type": "code",
   "execution_count": 163,
   "metadata": {},
   "outputs": [],
   "source": [
    "def hill_climb(dists, iterations=100000):\n",
    "    n = dists.shape[0]\n",
    "    idx = np.arange(n)\n",
    "        \n",
    "    # случайный маршрут\n",
    "    np.random.shuffle(idx)\n",
    "    start_len = calculate_path_len(dists, idx)\n",
    "    \n",
    "    for _ in range(iterations):\n",
    "        flip_idx = np.sort(np.random.choice(n, 2, replace=False))\n",
    "        \n",
    "        old_p1 = 0\n",
    "        new_p1 = 0\n",
    "        if flip_idx[0] > 0:\n",
    "            old_p1 = dists[idx[flip_idx[0] - 1]][idx[flip_idx[0]]]\n",
    "            new_p1 = dists[idx[flip_idx[0] - 1]][idx[flip_idx[1]]]\n",
    "        \n",
    "        old_p2 = 0\n",
    "        new_p2 = 0\n",
    "        if flip_idx[1] < n - 1:\n",
    "            old_p2 = dists[idx[flip_idx[1]]][idx[flip_idx[1] + 1]]\n",
    "            new_p2 = dists[idx[flip_idx[0]]][idx[flip_idx[1] + 1]]\n",
    "                \n",
    "        new_len = start_len - old_p1 - old_p2 + new_p1 + new_p2\n",
    "        \n",
    "        if new_len < start_len:\n",
    "            start_len = new_len\n",
    "            idx[flip_idx[0]: flip_idx[1] + 1] = np.flip(idx[flip_idx[0]: flip_idx[1] + 1])\n",
    "    \n",
    "    start_len = calculate_path_len(dists, idx)\n",
    "    \n",
    "    return start_len, idx"
   ]
  },
  {
   "cell_type": "code",
   "execution_count": 164,
   "metadata": {},
   "outputs": [
    {
     "data": {
      "text/plain": [
       "(9405.0,\n",
       " array([50, 10, 51, 12, 13, 46, 25, 26, 27, 11, 24, 45, 47, 23,  4,  5,  3,\n",
       "        42, 14, 37, 39, 36, 38, 35, 34, 33, 43, 15, 28, 29,  6,  1, 41, 20,\n",
       "        16,  2, 17, 30, 21,  0, 22, 19, 49, 48, 31, 44, 18, 40,  7,  8,  9,\n",
       "        32]))"
      ]
     },
     "execution_count": 164,
     "metadata": {},
     "output_type": "execute_result"
    }
   ],
   "source": [
    "hill_climb(dists)"
   ]
  },
  {
   "cell_type": "markdown",
   "metadata": {},
   "source": [
    "### Задание 4 (3 балла) \n",
    "\n",
    "\n",
    "Реализуйте отжиг (simulated annealing). Температурный режим отжига выберите самостоятельно."
   ]
  },
  {
   "cell_type": "code",
   "execution_count": 4,
   "metadata": {},
   "outputs": [],
   "source": [
    "#YOUR_CODE"
   ]
  },
  {
   "cell_type": "markdown",
   "metadata": {},
   "source": [
    "### Задание 5 (3 балла) \n",
    "\n",
    "Реализуйте генетический алгоритм."
   ]
  },
  {
   "cell_type": "code",
   "execution_count": 5,
   "metadata": {},
   "outputs": [],
   "source": [
    "#YOUR_CODE"
   ]
  },
  {
   "cell_type": "code",
   "execution_count": null,
   "metadata": {},
   "outputs": [],
   "source": []
  }
 ],
 "metadata": {
  "kernelspec": {
   "display_name": "Python 3",
   "language": "python",
   "name": "python3"
  },
  "language_info": {
   "codemirror_mode": {
    "name": "ipython",
    "version": 3
   },
   "file_extension": ".py",
   "mimetype": "text/x-python",
   "name": "python",
   "nbconvert_exporter": "python",
   "pygments_lexer": "ipython3",
   "version": "3.8.6"
  }
 },
 "nbformat": 4,
 "nbformat_minor": 4
}
